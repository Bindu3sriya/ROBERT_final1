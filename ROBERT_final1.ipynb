{
 "cells": [
  {
   "cell_type": "code",
   "execution_count": 23,
   "id": "139e87e6-8f1b-4b4a-b0d1-9989b38b1366",
   "metadata": {},
   "outputs": [
    {
     "name": "stdout",
     "output_type": "stream",
     "text": [
      "WARNING:tensorflow:From C:\\Users\\admin\\AppData\\Local\\Programs\\Python\\Python310\\lib\\site-packages\\keras\\src\\losses.py:2976: The name tf.losses.sparse_softmax_cross_entropy is deprecated. Please use tf.compat.v1.losses.sparse_softmax_cross_entropy instead.\n",
      "\n"
     ]
    }
   ],
   "source": [
    "import pandas as pd\n",
    "import numpy as np\n",
    "import tensorflow as tf\n",
    "from transformers import RobertaTokenizer, TFRobertaForSequenceClassification\n",
    "from sklearn.model_selection import train_test_split\n",
    "from sklearn.preprocessing import LabelEncoder\n",
    "import re\n",
    "import string\n",
    "import matplotlib.pyplot as plt\n",
    "from sklearn.metrics import accuracy_score, classification_report"
   ]
  },
  {
   "cell_type": "code",
   "execution_count": 24,
   "id": "f4d51824-958b-41f0-b037-86ad825e6f0e",
   "metadata": {},
   "outputs": [],
   "source": [
    "# Load dataset\n",
    "df = pd.read_csv(\"Eclipse_Platform.csv\")"
   ]
  },
  {
   "cell_type": "code",
   "execution_count": 25,
   "id": "cdf1aaf5-df44-445b-b345-d2de731c1577",
   "metadata": {},
   "outputs": [],
   "source": [
    "# preprocess_text function\n",
    "def preprocess_text(text):\n",
    "    text = text.lower()  # Convert text to lowercase\n",
    "    text = re.sub(r'http\\S+', '', text)  # Remove URLs\n",
    "    text = re.sub(r'stack trace\\S+', '', text)  # Remove stack traces\n",
    "    text = re.sub(r'\\b[0-9a-fA-F]+\\b', '', text)  # Remove hex codes\n",
    "    text = re.sub(r'\\[.*?\\]', '', text)  # Remove content in square brackets\n",
    "    text = re.sub(r'<.*?>', '', text)  # Remove content in angle brackets\n",
    "    text = text.replace('@', '')  # Remove @\n",
    "    text = text.replace('-', '')  # Remove -\n",
    "    text = text.replace('\"', '')  # Remove \"\n",
    "    text = text.replace('`', '')  # Remove `\n",
    "    text = text.replace('[', '')  # Remove [\n",
    "    text = text.replace(']', '')  # Remove ]\n",
    "    text = text.replace('<', '')  # Remove <\n",
    "    text = text.replace('>', '')  # Remove >\n",
    "    text = text.replace('%', '')  # Remove %\n",
    "    text = text.translate(str.maketrans('', '', string.punctuation))  # Remove punctuation\n",
    "    text = re.sub(r'\\d+', '', text)  # Remove numbers\n",
    "    text = re.sub(r'\\r\\n', ' ', text)  # Replace Windows-style newlines with space\n",
    "    text = re.sub(r'\\n|\\r', ' ', text)  # Replace Unix/Mac-style newlines with space\n",
    "    # tokens = word_tokenize(text)  # Tokenization\n",
    "    # lemmatizer = WordNetLemmatizer()\n",
    "    # tokens = [lemmatizer.lemmatize(word) for word in tokens]\n",
    "    # text = ' '.join(tokens)  # Join tokens back to string\n",
    "    return text\n",
    "\n",
    "df[\"text\"] = df[\"title\"] + \" \" + df[\"description\"]\n",
    "df[\"text\"] = df[\"text\"].apply(preprocess_text)\n",
    "df[\"component\"] = df[\"component\"].apply(preprocess_text)\n"
   ]
  },
  {
   "cell_type": "code",
   "execution_count": 26,
   "id": "854f0775-21d1-429a-9514-3bc8909405f8",
   "metadata": {},
   "outputs": [
    {
     "data": {
      "text/html": [
       "<div>\n",
       "<style scoped>\n",
       "    .dataframe tbody tr th:only-of-type {\n",
       "        vertical-align: middle;\n",
       "    }\n",
       "\n",
       "    .dataframe tbody tr th {\n",
       "        vertical-align: top;\n",
       "    }\n",
       "\n",
       "    .dataframe thead th {\n",
       "        text-align: right;\n",
       "    }\n",
       "</style>\n",
       "<table border=\"1\" class=\"dataframe\">\n",
       "  <thead>\n",
       "    <tr style=\"text-align: right;\">\n",
       "      <th></th>\n",
       "      <th>component</th>\n",
       "      <th>title</th>\n",
       "      <th>description</th>\n",
       "      <th>text</th>\n",
       "    </tr>\n",
       "  </thead>\n",
       "  <tbody>\n",
       "    <tr>\n",
       "      <th>8432</th>\n",
       "      <td>team</td>\n",
       "      <td>FTP: Connection wizard has no title</td>\n",
       "      <td>Build F2\\n\\nWhen you are specifying your FTP c...</td>\n",
       "      <td>ftp connection wizard has no title build   whe...</td>\n",
       "    </tr>\n",
       "    <tr>\n",
       "      <th>8433</th>\n",
       "      <td>ant</td>\n",
       "      <td>Ant Editor image does not update when problem ...</td>\n",
       "      <td>If you have a problem that you set to ignore, ...</td>\n",
       "      <td>ant editor image does not update when problem ...</td>\n",
       "    </tr>\n",
       "    <tr>\n",
       "      <th>8434</th>\n",
       "      <td>user assistance</td>\n",
       "      <td>2 additional points for the \"Accessibility fea...</td>\n",
       "      <td>As a follow-on to bug 400997 comment 9, there ...</td>\n",
       "      <td>additional points for the accessibility featu...</td>\n",
       "    </tr>\n",
       "    <tr>\n",
       "      <th>8435</th>\n",
       "      <td>ui</td>\n",
       "      <td>[Jobs] Property IProgressConstants2.SHOW_IN_TA...</td>\n",
       "      <td>Created attachment 254799 [details]\\nA test pr...</td>\n",
       "      <td>property iprogressconstantsshowintaskbariconp...</td>\n",
       "    </tr>\n",
       "    <tr>\n",
       "      <th>8436</th>\n",
       "      <td>ant</td>\n",
       "      <td>Hidden functionality of the copy button for bu...</td>\n",
       "      <td>From the newsgroup:\\n&gt; I expected that button ...</td>\n",
       "      <td>hidden functionality of the copy button for bu...</td>\n",
       "    </tr>\n",
       "    <tr>\n",
       "      <th>8437</th>\n",
       "      <td>compare</td>\n",
       "      <td>Exceptions after one of the compare viewer inp...</td>\n",
       "      <td>Build I20030513\\n\\n1. Select two folders\\n2. C...</td>\n",
       "      <td>exceptions after one of the compare viewer inp...</td>\n",
       "    </tr>\n",
       "    <tr>\n",
       "      <th>8438</th>\n",
       "      <td>swt</td>\n",
       "      <td>NullPointerException when invoking ContentAssist</td>\n",
       "      <td>eclipse.buildId=I20090313-0100\\njava.version=1...</td>\n",
       "      <td>nullpointerexception when invoking contentassi...</td>\n",
       "    </tr>\n",
       "    <tr>\n",
       "      <th>8439</th>\n",
       "      <td>ant</td>\n",
       "      <td>NullPointerException opening Ant file with URL...</td>\n",
       "      <td>Since upgrading to Mars, the following build f...</td>\n",
       "      <td>nullpointerexception opening ant file with url...</td>\n",
       "    </tr>\n",
       "    <tr>\n",
       "      <th>8440</th>\n",
       "      <td>ant</td>\n",
       "      <td>Code folding in the Ant Editor</td>\n",
       "      <td>Utilize the text framework support for code fo...</td>\n",
       "      <td>code folding in the ant editor utilize the tex...</td>\n",
       "    </tr>\n",
       "    <tr>\n",
       "      <th>8441</th>\n",
       "      <td>ant</td>\n",
       "      <td>Code completion does not present nested target...</td>\n",
       "      <td>antcall has supported a nested target element ...</td>\n",
       "      <td>code completion does not present nested target...</td>\n",
       "    </tr>\n",
       "    <tr>\n",
       "      <th>8442</th>\n",
       "      <td>team</td>\n",
       "      <td>[Model Sync] Elements of working set not selec...</td>\n",
       "      <td>When the sync dialog opens for a model sync an...</td>\n",
       "      <td>elements of working set not selected when dia...</td>\n",
       "    </tr>\n",
       "    <tr>\n",
       "      <th>8443</th>\n",
       "      <td>releng</td>\n",
       "      <td>Download page for Mac builds should mention th...</td>\n",
       "      <td>Eclipse 4.7 build for Mac ships with a new lau...</td>\n",
       "      <td>download page for mac builds should mention th...</td>\n",
       "    </tr>\n",
       "    <tr>\n",
       "      <th>8444</th>\n",
       "      <td>cvs</td>\n",
       "      <td>[Operations] Replace with... doesn't replace a...</td>\n",
       "      <td>I20060124\\n\\n1. In workspace w1, check out v1 ...</td>\n",
       "      <td>replace with doesnt replace all selected proj...</td>\n",
       "    </tr>\n",
       "    <tr>\n",
       "      <th>8445</th>\n",
       "      <td>releng</td>\n",
       "      <td>Enable photon I-builds on the download page</td>\n",
       "      <td>These were disabled for the quiet period. sinc...</td>\n",
       "      <td>enable photon ibuilds on the download page the...</td>\n",
       "    </tr>\n",
       "    <tr>\n",
       "      <th>8446</th>\n",
       "      <td>runtime</td>\n",
       "      <td>Job#isBlocking doesn't work for all cases</td>\n",
       "      <td>Job#isBlocking() only works when the job's sch...</td>\n",
       "      <td>jobisblocking doesnt work for all cases jobisb...</td>\n",
       "    </tr>\n",
       "    <tr>\n",
       "      <th>8447</th>\n",
       "      <td>team</td>\n",
       "      <td>Sync view: modified outgoing deletion not bein...</td>\n",
       "      <td>1. Delete a managed file from a project\\n2. Sy...</td>\n",
       "      <td>sync view modified outgoing deletion not being...</td>\n",
       "    </tr>\n",
       "    <tr>\n",
       "      <th>8448</th>\n",
       "      <td>ui</td>\n",
       "      <td>Cleanup JFace code in preparation for GSoc</td>\n",
       "      <td>This issue is an extension of bug #430873. The...</td>\n",
       "      <td>cleanup jface code in preparation for gsoc thi...</td>\n",
       "    </tr>\n",
       "    <tr>\n",
       "      <th>8449</th>\n",
       "      <td>resources</td>\n",
       "      <td>Remove unused ProjectPreferences.isAlreadyLoad...</td>\n",
       "      <td>The ProjectPreferences.isAlreadyLoaded(String)...</td>\n",
       "      <td>remove unused projectpreferencesisalreadyloade...</td>\n",
       "    </tr>\n",
       "    <tr>\n",
       "      <th>8450</th>\n",
       "      <td>team</td>\n",
       "      <td>Cannot share project in a sub directory of a m...</td>\n",
       "      <td>I20031113\\nSteps to reproduce:\\n- Create a pro...</td>\n",
       "      <td>cannot share project in  sub directory of  mod...</td>\n",
       "    </tr>\n",
       "    <tr>\n",
       "      <th>8451</th>\n",
       "      <td>ui</td>\n",
       "      <td>Memory leak in WorkbenchSiteProgressService</td>\n",
       "      <td>The dispose method of WorkbenchSiteProgressSer...</td>\n",
       "      <td>memory leak in workbenchsiteprogressservice th...</td>\n",
       "    </tr>\n",
       "    <tr>\n",
       "      <th>8452</th>\n",
       "      <td>swt</td>\n",
       "      <td>JVM (Eclipse) crash with SIGSEGV in ld-linux-x...</td>\n",
       "      <td>Build Identifier: I20120531-0600 (3.8 RC3)\\n\\n...</td>\n",
       "      <td>jvm eclipse crash with sigsegv in ldlinuxxso b...</td>\n",
       "    </tr>\n",
       "    <tr>\n",
       "      <th>8453</th>\n",
       "      <td>ui</td>\n",
       "      <td>[Contributions] dynamic: Action definition sty...</td>\n",
       "      <td>I20030812\\n\\nIn XML I defined an action with s...</td>\n",
       "      <td>dynamic action definition stylepulldown and r...</td>\n",
       "    </tr>\n",
       "    <tr>\n",
       "      <th>8454</th>\n",
       "      <td>releng</td>\n",
       "      <td>POM version problem quick fix mangles the pom....</td>\n",
       "      <td>4.3.\\n\\nThe POM version problem quick fix mang...</td>\n",
       "      <td>pom version problem quick fix mangles the pomx...</td>\n",
       "    </tr>\n",
       "    <tr>\n",
       "      <th>8455</th>\n",
       "      <td>text</td>\n",
       "      <td>[navigation] Add Go To Next/Previous Annotatio...</td>\n",
       "      <td>The java editor supports the generic Next / Pr...</td>\n",
       "      <td>go to nextprevious annotation commands to te...</td>\n",
       "    </tr>\n",
       "    <tr>\n",
       "      <th>8456</th>\n",
       "      <td>ui</td>\n",
       "      <td>[Dialogs] ResourceInfoPage should set backgrou...</td>\n",
       "      <td>ResourceInfoPage uses read-only text widgets t...</td>\n",
       "      <td>resourceinfopage should set background on rea...</td>\n",
       "    </tr>\n",
       "  </tbody>\n",
       "</table>\n",
       "</div>"
      ],
      "text/plain": [
       "                 component                                              title  \\\n",
       "8432             team                     FTP: Connection wizard has no title   \n",
       "8433              ant       Ant Editor image does not update when problem ...   \n",
       "8434  user assistance       2 additional points for the \"Accessibility fea...   \n",
       "8435               ui       [Jobs] Property IProgressConstants2.SHOW_IN_TA...   \n",
       "8436              ant       Hidden functionality of the copy button for bu...   \n",
       "8437          compare       Exceptions after one of the compare viewer inp...   \n",
       "8438              swt        NullPointerException when invoking ContentAssist   \n",
       "8439              ant       NullPointerException opening Ant file with URL...   \n",
       "8440              ant                          Code folding in the Ant Editor   \n",
       "8441              ant       Code completion does not present nested target...   \n",
       "8442             team       [Model Sync] Elements of working set not selec...   \n",
       "8443           releng       Download page for Mac builds should mention th...   \n",
       "8444              cvs       [Operations] Replace with... doesn't replace a...   \n",
       "8445           releng             Enable photon I-builds on the download page   \n",
       "8446          runtime               Job#isBlocking doesn't work for all cases   \n",
       "8447             team       Sync view: modified outgoing deletion not bein...   \n",
       "8448               ui              Cleanup JFace code in preparation for GSoc   \n",
       "8449        resources       Remove unused ProjectPreferences.isAlreadyLoad...   \n",
       "8450             team       Cannot share project in a sub directory of a m...   \n",
       "8451               ui             Memory leak in WorkbenchSiteProgressService   \n",
       "8452              swt       JVM (Eclipse) crash with SIGSEGV in ld-linux-x...   \n",
       "8453               ui       [Contributions] dynamic: Action definition sty...   \n",
       "8454           releng       POM version problem quick fix mangles the pom....   \n",
       "8455             text       [navigation] Add Go To Next/Previous Annotatio...   \n",
       "8456               ui       [Dialogs] ResourceInfoPage should set backgrou...   \n",
       "\n",
       "                                            description  \\\n",
       "8432  Build F2\\n\\nWhen you are specifying your FTP c...   \n",
       "8433  If you have a problem that you set to ignore, ...   \n",
       "8434  As a follow-on to bug 400997 comment 9, there ...   \n",
       "8435  Created attachment 254799 [details]\\nA test pr...   \n",
       "8436  From the newsgroup:\\n> I expected that button ...   \n",
       "8437  Build I20030513\\n\\n1. Select two folders\\n2. C...   \n",
       "8438  eclipse.buildId=I20090313-0100\\njava.version=1...   \n",
       "8439  Since upgrading to Mars, the following build f...   \n",
       "8440  Utilize the text framework support for code fo...   \n",
       "8441  antcall has supported a nested target element ...   \n",
       "8442  When the sync dialog opens for a model sync an...   \n",
       "8443  Eclipse 4.7 build for Mac ships with a new lau...   \n",
       "8444  I20060124\\n\\n1. In workspace w1, check out v1 ...   \n",
       "8445  These were disabled for the quiet period. sinc...   \n",
       "8446  Job#isBlocking() only works when the job's sch...   \n",
       "8447  1. Delete a managed file from a project\\n2. Sy...   \n",
       "8448  This issue is an extension of bug #430873. The...   \n",
       "8449  The ProjectPreferences.isAlreadyLoaded(String)...   \n",
       "8450  I20031113\\nSteps to reproduce:\\n- Create a pro...   \n",
       "8451  The dispose method of WorkbenchSiteProgressSer...   \n",
       "8452  Build Identifier: I20120531-0600 (3.8 RC3)\\n\\n...   \n",
       "8453  I20030812\\n\\nIn XML I defined an action with s...   \n",
       "8454  4.3.\\n\\nThe POM version problem quick fix mang...   \n",
       "8455  The java editor supports the generic Next / Pr...   \n",
       "8456  ResourceInfoPage uses read-only text widgets t...   \n",
       "\n",
       "                                                   text  \n",
       "8432  ftp connection wizard has no title build   whe...  \n",
       "8433  ant editor image does not update when problem ...  \n",
       "8434   additional points for the accessibility featu...  \n",
       "8435   property iprogressconstantsshowintaskbariconp...  \n",
       "8436  hidden functionality of the copy button for bu...  \n",
       "8437  exceptions after one of the compare viewer inp...  \n",
       "8438  nullpointerexception when invoking contentassi...  \n",
       "8439  nullpointerexception opening ant file with url...  \n",
       "8440  code folding in the ant editor utilize the tex...  \n",
       "8441  code completion does not present nested target...  \n",
       "8442   elements of working set not selected when dia...  \n",
       "8443  download page for mac builds should mention th...  \n",
       "8444   replace with doesnt replace all selected proj...  \n",
       "8445  enable photon ibuilds on the download page the...  \n",
       "8446  jobisblocking doesnt work for all cases jobisb...  \n",
       "8447  sync view modified outgoing deletion not being...  \n",
       "8448  cleanup jface code in preparation for gsoc thi...  \n",
       "8449  remove unused projectpreferencesisalreadyloade...  \n",
       "8450  cannot share project in  sub directory of  mod...  \n",
       "8451  memory leak in workbenchsiteprogressservice th...  \n",
       "8452  jvm eclipse crash with sigsegv in ldlinuxxso b...  \n",
       "8453   dynamic action definition stylepulldown and r...  \n",
       "8454  pom version problem quick fix mangles the pomx...  \n",
       "8455    go to nextprevious annotation commands to te...  \n",
       "8456   resourceinfopage should set background on rea...  "
      ]
     },
     "execution_count": 26,
     "metadata": {},
     "output_type": "execute_result"
    }
   ],
   "source": [
    "df.tail(25)"
   ]
  },
  {
   "cell_type": "code",
   "execution_count": 27,
   "id": "f39ad55d-c095-4b73-a9e1-89aaa750fbfe",
   "metadata": {},
   "outputs": [
    {
     "name": "stdout",
     "output_type": "stream",
     "text": [
      "component\n",
      "swt                                             994\n",
      "debug                                           994\n",
      "ant                                             994\n",
      "ui                                              994\n",
      "team                                            929\n",
      "releng                                          733\n",
      "text                                            630\n",
      "cvs                                             523\n",
      "compare                                         356\n",
      "ide                                             315\n",
      "resources                                       273\n",
      "user assistance                                 248\n",
      "doc                                             180\n",
      "search                                          144\n",
      "runtime                                          93\n",
      "update  deprecated  use eclipseequinoxp          57\n",
      "Name: count, dtype: int64\n"
     ]
    }
   ],
   "source": [
    "# \n",
    "component_counts = df['component'].value_counts()\n",
    "print(component_counts)"
   ]
  },
  {
   "cell_type": "code",
   "execution_count": 28,
   "id": "01f5aaa4-becb-48c6-9e7f-50836c4ea891",
   "metadata": {},
   "outputs": [
    {
     "data": {
      "text/plain": [
       "8457"
      ]
     },
     "execution_count": 28,
     "metadata": {},
     "output_type": "execute_result"
    }
   ],
   "source": [
    "df.shape[0]"
   ]
  },
  {
   "cell_type": "code",
   "execution_count": 29,
   "id": "aace10ec-1841-4662-8e51-3f6e286577f6",
   "metadata": {},
   "outputs": [],
   "source": [
    "# Splitting the data\n",
    "train_data, test_data = train_test_split(df, test_size=0.2, random_state=42)"
   ]
  },
  {
   "cell_type": "code",
   "execution_count": 30,
   "id": "01cfd650-1f5d-40aa-8cd8-6add3acc6679",
   "metadata": {},
   "outputs": [],
   "source": [
    "# Load the ROBERTa tokenizer\n",
    "tokenizer = RobertaTokenizer.from_pretrained('roberta-base')"
   ]
  },
  {
   "cell_type": "code",
   "execution_count": 31,
   "id": "7088cca4-5e49-41a0-95b2-9ef12b67edb7",
   "metadata": {},
   "outputs": [],
   "source": [
    "def encode_data(tokenizer, texts, labels, max_length):\n",
    "    input_ids = []\n",
    "    attention_masks = []\n",
    "    for text in texts:\n",
    "        encoded = tokenizer.encode_plus(\n",
    "            text, \n",
    "            add_special_tokens=True, \n",
    "            max_length=max_length, \n",
    "            truncation=True, \n",
    "            padding='max_length', \n",
    "            return_attention_mask=True, \n",
    "            return_tensors='tf'\n",
    "        )\n",
    "        input_ids.append(encoded['input_ids'])\n",
    "        attention_masks.append(encoded['attention_mask'])\n",
    "    \n",
    "    input_ids = tf.concat(input_ids, axis=0)\n",
    "    attention_masks = tf.concat(attention_masks, axis=0)\n",
    "    labels = tf.convert_to_tensor(labels, dtype=tf.int32)\n",
    "\n",
    "    return {\n",
    "        'input_ids': input_ids,\n",
    "        'attention_mask': attention_masks,\n",
    "        'labels': labels\n",
    "    }"
   ]
  },
  {
   "cell_type": "code",
   "execution_count": 32,
   "id": "c3d964f4-b58a-4a0b-804e-671ee458ad6d",
   "metadata": {},
   "outputs": [],
   "source": [
    "\n",
    "label_encoder = LabelEncoder()\n",
    "train_labels = label_encoder.fit_transform(train_data['component'])\n",
    "test_labels = label_encoder.transform(test_data['component'])"
   ]
  },
  {
   "cell_type": "code",
   "execution_count": 34,
   "id": "1c0ab036-0dfc-4c1d-8409-ffcc352314e6",
   "metadata": {},
   "outputs": [],
   "source": [
    "# Encode data\n",
    "max_length = 50  \n",
    "train_encodings = encode_data(tokenizer, train_data['text'].to_numpy(), train_labels, max_length)\n",
    "test_encodings = encode_data(tokenizer, test_data['text'].to_numpy(), test_labels, max_length)\n"
   ]
  },
  {
   "cell_type": "code",
   "execution_count": 35,
   "id": "f254bcb8-db12-4ad5-afd9-ef1b07989df0",
   "metadata": {},
   "outputs": [],
   "source": [
    "# Convert labels to TensorFlow tensors\n",
    "train_labels = tf.convert_to_tensor(train_labels)\n",
    "test_labels = tf.convert_to_tensor(test_labels)"
   ]
  },
  {
   "cell_type": "code",
   "execution_count": 36,
   "id": "9a6a1e4c-9f8b-4960-a25a-223b12a265f0",
   "metadata": {},
   "outputs": [
    {
     "name": "stdout",
     "output_type": "stream",
     "text": [
      "WARNING:tensorflow:From C:\\Users\\admin\\AppData\\Local\\Programs\\Python\\Python310\\lib\\site-packages\\keras\\src\\backend.py:873: The name tf.get_default_graph is deprecated. Please use tf.compat.v1.get_default_graph instead.\n",
      "\n"
     ]
    },
    {
     "name": "stderr",
     "output_type": "stream",
     "text": [
      "Some weights of the PyTorch model were not used when initializing the TF 2.0 model TFRobertaForSequenceClassification: ['roberta.embeddings.position_ids']\n",
      "- This IS expected if you are initializing TFRobertaForSequenceClassification from a PyTorch model trained on another task or with another architecture (e.g. initializing a TFBertForSequenceClassification model from a BertForPreTraining model).\n",
      "- This IS NOT expected if you are initializing TFRobertaForSequenceClassification from a PyTorch model that you expect to be exactly identical (e.g. initializing a TFBertForSequenceClassification model from a BertForSequenceClassification model).\n",
      "Some weights or buffers of the TF 2.0 model TFRobertaForSequenceClassification were not initialized from the PyTorch model and are newly initialized: ['classifier.dense.weight', 'classifier.dense.bias', 'classifier.out_proj.weight', 'classifier.out_proj.bias']\n",
      "You should probably TRAIN this model on a down-stream task to be able to use it for predictions and inference.\n"
     ]
    }
   ],
   "source": [
    "# Load the ROBERTa model\n",
    "model = TFRobertaForSequenceClassification.from_pretrained('roberta-base', num_labels=len(df['component'].unique()))\n"
   ]
  },
  {
   "cell_type": "code",
   "execution_count": 37,
   "id": "84a39633-0951-4515-9ed0-4d253dc35444",
   "metadata": {},
   "outputs": [],
   "source": [
    "# Prepare the training dataset\n",
    "train_dataset = tf.data.Dataset.from_tensor_slices((\n",
    "    dict(train_encodings),\n",
    "    train_labels\n",
    ")).shuffle(1000).batch(64)"
   ]
  },
  {
   "cell_type": "code",
   "execution_count": 38,
   "id": "4b637486-dbd6-452b-bde4-ead3e4e31b73",
   "metadata": {},
   "outputs": [],
   "source": [
    "# Prepare the validation dataset\n",
    "test_dataset = tf.data.Dataset.from_tensor_slices((\n",
    "    dict(test_encodings),\n",
    "    test_labels\n",
    ")).batch(64)"
   ]
  },
  {
   "cell_type": "code",
   "execution_count": 39,
   "id": "5693c8b5-4384-42b1-9e33-c4d1f87bbb0b",
   "metadata": {},
   "outputs": [],
   "source": [
    "# Optimizer and loss\n",
    "optimizer = tf.keras.optimizers.Adam(learning_rate=5e-6)\n",
    "loss = tf.keras.losses.SparseCategoricalCrossentropy(from_logits=True)\n",
    "\n",
    "model.compile(optimizer=optimizer, loss=loss, metrics=['accuracy'])"
   ]
  },
  {
   "cell_type": "code",
   "execution_count": 41,
   "id": "f8211259-fa4c-478a-bfd5-8ede6d2daf9d",
   "metadata": {},
   "outputs": [
    {
     "name": "stdout",
     "output_type": "stream",
     "text": [
      "Epoch 1/10\n",
      "106/106 [==============================] - 442s 4s/step - loss: 1.6292 - accuracy: 0.5193 - val_loss: 1.5044 - val_accuracy: 0.5426\n",
      "Epoch 2/10\n",
      "106/106 [==============================] - 446s 4s/step - loss: 1.4087 - accuracy: 0.5823 - val_loss: 1.3478 - val_accuracy: 0.5969\n",
      "Epoch 3/10\n",
      "106/106 [==============================] - 442s 4s/step - loss: 1.2546 - accuracy: 0.6253 - val_loss: 1.2839 - val_accuracy: 0.6058\n",
      "Epoch 4/10\n",
      "106/106 [==============================] - 445s 4s/step - loss: 1.1319 - accuracy: 0.6681 - val_loss: 1.2148 - val_accuracy: 0.6283\n",
      "Epoch 5/10\n",
      "106/106 [==============================] - 443s 4s/step - loss: 1.0308 - accuracy: 0.6945 - val_loss: 1.2114 - val_accuracy: 0.6300\n",
      "Epoch 6/10\n",
      "106/106 [==============================] - 443s 4s/step - loss: 0.9470 - accuracy: 0.7180 - val_loss: 1.1733 - val_accuracy: 0.6442\n",
      "Epoch 7/10\n",
      "106/106 [==============================] - 441s 4s/step - loss: 0.8762 - accuracy: 0.7426 - val_loss: 1.1541 - val_accuracy: 0.6513\n",
      "Epoch 8/10\n",
      "106/106 [==============================] - 442s 4s/step - loss: 0.8089 - accuracy: 0.7582 - val_loss: 1.1638 - val_accuracy: 0.6513\n",
      "Epoch 9/10\n",
      "106/106 [==============================] - 442s 4s/step - loss: 0.7351 - accuracy: 0.7777 - val_loss: 1.1465 - val_accuracy: 0.6619\n",
      "Epoch 10/10\n",
      "106/106 [==============================] - 441s 4s/step - loss: 0.6888 - accuracy: 0.7942 - val_loss: 1.1483 - val_accuracy: 0.6637\n"
     ]
    }
   ],
   "source": [
    "# Train the model\n",
    "history = model.fit(train_dataset, validation_data=test_dataset, epochs=10)"
   ]
  },
  {
   "cell_type": "code",
   "execution_count": 42,
   "id": "ba01399b-6349-4de7-ae6a-6ebba9fc5b2e",
   "metadata": {},
   "outputs": [
    {
     "name": "stdout",
     "output_type": "stream",
     "text": [
      "27/27 [==============================] - 27s 995ms/step - loss: 1.1483 - accuracy: 0.6637\n",
      "\n",
      "Test Loss: 1.1483147144317627, Test Accuracy: 0.6637116074562073\n"
     ]
    }
   ],
   "source": [
    "# Evaluate the model\n",
    "eval_results = model.evaluate(test_dataset)\n",
    "print(f'\\nTest Loss: {eval_results[0]}, Test Accuracy: {eval_results[1]}')"
   ]
  },
  {
   "cell_type": "code",
   "execution_count": 46,
   "id": "92d10f8f-c05d-4625-9bfb-01041c3a3375",
   "metadata": {},
   "outputs": [
    {
     "name": "stdout",
     "output_type": "stream",
     "text": [
      "27/27 [==============================] - 29s 1s/step\n",
      "Accuracy: 0.6637115839243499\n",
      "Classification Report:\n",
      "                                              precision    recall  f1-score   support\n",
      "\n",
      "                                    ant            0.84      0.89      0.87       199\n",
      "                                compare            0.73      0.68      0.70        66\n",
      "                                    cvs            0.45      0.38      0.41       113\n",
      "                                  debug            0.81      0.81      0.81       216\n",
      "                                    doc            0.55      0.47      0.51        36\n",
      "                                    ide            0.45      0.37      0.41        54\n",
      "                                 releng            0.79      0.76      0.78       159\n",
      "                              resources            0.38      0.49      0.43        47\n",
      "                                runtime            0.00      0.00      0.00        23\n",
      "                                 search            0.86      0.78      0.82        32\n",
      "                                    swt            0.81      0.78      0.79       200\n",
      "                                   team            0.56      0.65      0.60       179\n",
      "                                   text            0.53      0.60      0.57       111\n",
      "                                     ui            0.52      0.56      0.54       206\n",
      "update  deprecated  use eclipseequinoxp            0.00      0.00      0.00        14\n",
      "                        user assistance            0.50      0.57      0.53        37\n",
      "\n",
      "                                    accuracy                           0.66      1692\n",
      "                                   macro avg       0.55      0.55      0.55      1692\n",
      "                                weighted avg       0.65      0.66      0.66      1692\n",
      "\n"
     ]
    },
    {
     "name": "stderr",
     "output_type": "stream",
     "text": [
      "C:\\Users\\admin\\AppData\\Local\\Programs\\Python\\Python310\\lib\\site-packages\\sklearn\\metrics\\_classification.py:1471: UndefinedMetricWarning: Precision and F-score are ill-defined and being set to 0.0 in labels with no predicted samples. Use `zero_division` parameter to control this behavior.\n",
      "  _warn_prf(average, modifier, msg_start, len(result))\n",
      "C:\\Users\\admin\\AppData\\Local\\Programs\\Python\\Python310\\lib\\site-packages\\sklearn\\metrics\\_classification.py:1471: UndefinedMetricWarning: Precision and F-score are ill-defined and being set to 0.0 in labels with no predicted samples. Use `zero_division` parameter to control this behavior.\n",
      "  _warn_prf(average, modifier, msg_start, len(result))\n",
      "C:\\Users\\admin\\AppData\\Local\\Programs\\Python\\Python310\\lib\\site-packages\\sklearn\\metrics\\_classification.py:1471: UndefinedMetricWarning: Precision and F-score are ill-defined and being set to 0.0 in labels with no predicted samples. Use `zero_division` parameter to control this behavior.\n",
      "  _warn_prf(average, modifier, msg_start, len(result))\n"
     ]
    }
   ],
   "source": [
    "from sklearn.metrics import accuracy_score, classification_report\n",
    "\n",
    "# Prediction on test data\n",
    "predictions = model.predict(test_dataset).logits\n",
    "test_preds = np.argmax(predictions, axis=1)\n",
    "\n",
    "# Convert predictions to original labels\n",
    "test_preds_original = label_encoder.inverse_transform(test_preds)\n",
    "\n",
    "# Accuracy and classification report\n",
    "accuracy = accuracy_score(test_data['component'], test_preds_original)\n",
    "classification_report_result = classification_report(test_data['component'], test_preds_original)\n",
    "\n",
    "print(f'Accuracy: {accuracy}')\n",
    "print('Classification Report:')\n",
    "print(classification_report_result)"
   ]
  },
  {
   "cell_type": "code",
   "execution_count": 43,
   "id": "df544615-d6c4-4db2-88b8-9bbdecebd1be",
   "metadata": {},
   "outputs": [],
   "source": [
    "def predict_components(input_description):\n",
    "    # Preprocess the input description\n",
    "    processed_description = preprocess_text(input_description)\n",
    "    \n",
    "    # Tokenize the text\n",
    "    encoded_input = tokenizer.encode_plus(\n",
    "        processed_description, \n",
    "        add_special_tokens=True,\n",
    "        max_length=50,  # Ensure this matches the max_length used during training\n",
    "        truncation=True,\n",
    "        padding='max_length',\n",
    "        return_attention_mask=True,\n",
    "        return_tensors='tf'\n",
    "    )\n",
    "\n",
    "    # Make prediction\n",
    "    prediction = model.predict({\n",
    "        'input_ids': encoded_input['input_ids'],\n",
    "        'attention_mask': encoded_input['attention_mask']\n",
    "    })\n",
    "\n",
    "    # Get the top 5 predictions (indices of the sorted logits)\n",
    "    top_5_indices = np.argsort(prediction.logits, axis=1)[0, -5:][::-1]\n",
    "\n",
    "    # Convert predictions to component names using the label encoder\n",
    "    top_5_components = label_encoder.inverse_transform(top_5_indices)\n",
    "    \n",
    "    # Get the corresponding scores (softmax to get probabilities)\n",
    "    softmax_scores = tf.nn.softmax(prediction.logits, axis=1)\n",
    "    top_5_scores = [softmax_scores.numpy()[0, idx] for idx in top_5_indices]\n",
    "\n",
    "    return list(zip(top_5_components, top_5_scores))\n",
    "\n",
    "\n"
   ]
  },
  {
   "cell_type": "code",
   "execution_count": 45,
   "id": "800765f6-8497-4d24-a417-5511204d6d03",
   "metadata": {},
   "outputs": [
    {
     "data": {
      "application/vnd.jupyter.widget-view+json": {
       "model_id": "0e303cd11b824ce8abdd14275397e6ca",
       "version_major": 2,
       "version_minor": 0
      },
      "text/plain": [
       "Textarea(value='', description='Description:', layout=Layout(height='100px', width='500px'), placeholder='Type…"
      ]
     },
     "metadata": {},
     "output_type": "display_data"
    },
    {
     "data": {
      "application/vnd.jupyter.widget-view+json": {
       "model_id": "fdf231eeb1244e888d3bea917ef89b86",
       "version_major": 2,
       "version_minor": 0
      },
      "text/plain": [
       "Button(button_style='info', description='Predict Components', icon='check', style=ButtonStyle(), tooltip='Clic…"
      ]
     },
     "metadata": {},
     "output_type": "display_data"
    },
    {
     "data": {
      "application/vnd.jupyter.widget-view+json": {
       "model_id": "b557de33b06f4c1fa84255dfe682948e",
       "version_major": 2,
       "version_minor": 0
      },
      "text/plain": [
       "Output()"
      ]
     },
     "metadata": {},
     "output_type": "display_data"
    }
   ],
   "source": [
    "import ipywidgets as widgets\n",
    "from IPython.display import display\n",
    "\n",
    "# text input field\n",
    "text_input = widgets.Textarea(\n",
    "    value='',\n",
    "    placeholder='Type Description here',\n",
    "    description='Description:',\n",
    "    disabled=False,\n",
    "    layout={'width': '500px', 'height': '100px'}\n",
    ")\n",
    "\n",
    "#  button\n",
    "button = widgets.Button(\n",
    "    description='Predict Components',\n",
    "    disabled=False,\n",
    "    button_style='info',\n",
    "    tooltip='Click to predict top 5 components',\n",
    "    icon='check' \n",
    ")\n",
    "\n",
    "# output area\n",
    "output = widgets.Output()\n",
    "\n",
    "# button click event handler\n",
    "def on_button_clicked(b):\n",
    "    with output:\n",
    "        output.clear_output()\n",
    "        if text_input.value.strip() == '':\n",
    "            print(\"Please enter a description.\")\n",
    "        else:\n",
    "            recommendations = predict_components(text_input.value)\n",
    "            print(\"Top 5 Component Recommendations and their scores:\")\n",
    "            for component, score in recommendations:\n",
    "                print(f\"{component}: {score:.4f}\")\n",
    "\n",
    "\n",
    "button.on_click(on_button_clicked)\n",
    "\n",
    "\n",
    "display(text_input, button, output)\n"
   ]
  },
  {
   "cell_type": "code",
   "execution_count": null,
   "id": "7939948e-03eb-49cf-9063-3e9f28ecdc00",
   "metadata": {},
   "outputs": [],
   "source": []
  }
 ],
 "metadata": {
  "kernelspec": {
   "display_name": "Python 3 (ipykernel)",
   "language": "python",
   "name": "python3"
  },
  "language_info": {
   "codemirror_mode": {
    "name": "ipython",
    "version": 3
   },
   "file_extension": ".py",
   "mimetype": "text/x-python",
   "name": "python",
   "nbconvert_exporter": "python",
   "pygments_lexer": "ipython3",
   "version": "3.10.11"
  }
 },
 "nbformat": 4,
 "nbformat_minor": 5
}
